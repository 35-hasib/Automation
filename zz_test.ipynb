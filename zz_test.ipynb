{
 "cells": [
  {
   "cell_type": "code",
   "execution_count": 1,
   "metadata": {},
   "outputs": [
    {
     "name": "stdout",
     "output_type": "stream",
     "text": [
      "Package                   VersionNote: you may need to restart the kernel to use updated packages.\n"
     ]
    },
    {
     "name": "stderr",
     "output_type": "stream",
     "text": [
      "\n",
      "[notice] A new release of pip is available: 23.2.1 -> 23.3.2\n",
      "[notice] To update, run: python.exe -m pip install --upgrade pip\n"
     ]
    },
    {
     "name": "stdout",
     "output_type": "stream",
     "text": [
      "\n",
      "------------------------- ------------\n",
      "altgraph                  0.17.4\n",
      "asttokens                 2.4.1\n",
      "attrs                     23.2.0\n",
      "camelot-py                0.11.0\n",
      "certifi                   2023.11.17\n",
      "cffi                      1.16.0\n",
      "chardet                   5.2.0\n",
      "charset-normalizer        3.3.2\n",
      "click                     8.1.7\n",
      "colorama                  0.4.6\n",
      "comm                      0.2.1\n",
      "cryptography              42.0.1\n",
      "DateTime                  5.4\n",
      "debugpy                   1.8.0\n",
      "decorator                 5.1.1\n",
      "et-xmlfile                1.1.0\n",
      "executing                 2.0.1\n",
      "ghostscript               0.7\n",
      "h11                       0.14.0\n",
      "idna                      3.6\n",
      "ipykernel                 6.29.0\n",
      "ipython                   8.20.0\n",
      "jedi                      0.19.1\n",
      "jupyter_client            8.6.0\n",
      "jupyter_core              5.7.1\n",
      "lxml                      5.1.0\n",
      "matplotlib-inline         0.1.6\n",
      "nest-asyncio              1.6.0\n",
      "numpy                     1.26.3\n",
      "openpyxl                  3.1.2\n",
      "outcome                   1.3.0.post0\n",
      "packaging                 23.2\n",
      "pandas                    2.2.0\n",
      "parso                     0.8.3\n",
      "pdfminer.six              20231228\n",
      "pefile                    2023.2.7\n",
      "pip                       23.2.1\n",
      "platformdirs              4.1.0\n",
      "prompt-toolkit            3.0.43\n",
      "psutil                    5.9.8\n",
      "pure-eval                 0.2.2\n",
      "pycparser                 2.21\n",
      "Pygments                  2.17.2\n",
      "pyinstaller               6.3.0\n",
      "pyinstaller-hooks-contrib 2024.0\n",
      "pypdf                     4.0.0\n",
      "pyperclip                 1.8.2\n",
      "PySocks                   1.7.1\n",
      "python-dateutil           2.8.2\n",
      "pytz                      2023.3.post1\n",
      "pywin32                   306\n",
      "pywin32-ctypes            0.2.2\n",
      "pyzmq                     25.1.2\n",
      "requests                  2.31.0\n",
      "selenium                  4.16.0\n",
      "setuptools                69.0.3\n",
      "six                       1.16.0\n",
      "sniffio                   1.3.0\n",
      "sortedcontainers          2.4.0\n",
      "stack-data                0.6.3\n",
      "tabulate                  0.9.0\n",
      "tk                        0.1.0\n",
      "tornado                   6.4\n",
      "traitlets                 5.14.1\n",
      "trio                      0.24.0\n",
      "trio-websocket            0.11.1\n",
      "tzdata                    2023.4\n",
      "urllib3                   2.1.0\n",
      "wcwidth                   0.2.13\n",
      "wsproto                   1.2.0\n",
      "zope.interface            6.1\n"
     ]
    }
   ],
   "source": []
  }
 ],
 "metadata": {
  "kernelspec": {
   "display_name": "venv",
   "language": "python",
   "name": "python3"
  },
  "language_info": {
   "codemirror_mode": {
    "name": "ipython",
    "version": 3
   },
   "file_extension": ".py",
   "mimetype": "text/x-python",
   "name": "python",
   "nbconvert_exporter": "python",
   "pygments_lexer": "ipython3",
   "version": "3.12.1"
  }
 },
 "nbformat": 4,
 "nbformat_minor": 2
}
