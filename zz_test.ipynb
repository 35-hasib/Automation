{
 "cells": [
  {
   "cell_type": "code",
   "execution_count": 2,
   "metadata": {},
   "outputs": [
    {
     "name": "stdout",
     "output_type": "stream",
     "text": [
      "Requirement already satisfied: pyinstaller in c:\\users\\hasibur rahman\\appdata\\local\\programs\\python\\python312\\lib\\site-packages (6.3.0)\n",
      "Requirement already satisfied: setuptools>=42.0.0 in c:\\users\\hasibur rahman\\appdata\\local\\programs\\python\\python312\\lib\\site-packages (from pyinstaller) (69.0.3)\n",
      "Requirement already satisfied: altgraph in c:\\users\\hasibur rahman\\appdata\\local\\programs\\python\\python312\\lib\\site-packages (from pyinstaller) (0.17.4)\n",
      "Requirement already satisfied: pyinstaller-hooks-contrib>=2021.4 in c:\\users\\hasibur rahman\\appdata\\local\\programs\\python\\python312\\lib\\site-packages (from pyinstaller) (2024.0)\n",
      "Requirement already satisfied: packaging>=22.0 in c:\\users\\hasibur rahman\\appdata\\roaming\\python\\python312\\site-packages (from pyinstaller) (23.2)\n",
      "Requirement already satisfied: pefile>=2022.5.30 in c:\\users\\hasibur rahman\\appdata\\local\\programs\\python\\python312\\lib\\site-packages (from pyinstaller) (2023.2.7)\n",
      "Requirement already satisfied: pywin32-ctypes>=0.2.1 in c:\\users\\hasibur rahman\\appdata\\local\\programs\\python\\python312\\lib\\site-packages (from pyinstaller) (0.2.2)\n",
      "Note: you may need to restart the kernel to use updated packages.\n"
     ]
    },
    {
     "name": "stderr",
     "output_type": "stream",
     "text": [
      "\n",
      "[notice] A new release of pip is available: 23.2.1 -> 23.3.2\n",
      "[notice] To update, run: python.exe -m pip install --upgrade pip\n"
     ]
    }
   ],
   "source": [
    "pip install pyinstaller"
   ]
  }
 ],
 "metadata": {
  "kernelspec": {
   "display_name": "venv",
   "language": "python",
   "name": "python3"
  },
  "language_info": {
   "codemirror_mode": {
    "name": "ipython",
    "version": 3
   },
   "file_extension": ".py",
   "mimetype": "text/x-python",
   "name": "python",
   "nbconvert_exporter": "python",
   "pygments_lexer": "ipython3",
   "version": "3.12.1"
  }
 },
 "nbformat": 4,
 "nbformat_minor": 2
}
